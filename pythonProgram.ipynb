{
 "cells": [
  {
   "cell_type": "markdown",
   "id": "959047a5",
   "metadata": {},
   "source": [
    "# Answer 6:"
   ]
  },
  {
   "cell_type": "code",
   "execution_count": 1,
   "id": "c1041121",
   "metadata": {},
   "outputs": [
    {
     "name": "stdout",
     "output_type": "stream",
     "text": [
      "appyhay\n"
     ]
    }
   ],
   "source": [
    "def pig(x):\n",
    "    y = x.lower() #converting and assigning string into lower case to make string easily operational.*/\n",
    "    if (y[0]== 'a' or y[0] == 'e' or y[0] == 'i' or y[0] == 'o' or y[0] == 'u'): #//condition for vowels\n",
    "        z = y + \"way\"\n",
    "        return z\n",
    "    else: # condition for consonants.\n",
    "        z = y[1:] + y[0] + \"ay\"\n",
    "        return z\n",
    "    \n",
    "obj1 = pig('happy')\n",
    "print(obj1)"
   ]
  },
  {
   "cell_type": "code",
   "execution_count": 2,
   "id": "f87e974f",
   "metadata": {},
   "outputs": [
    {
     "name": "stdout",
     "output_type": "stream",
     "text": [
      "appyhay\n"
     ]
    }
   ],
   "source": [
    "obj1 = pig('happy')\n",
    "print(obj1)"
   ]
  },
  {
   "cell_type": "code",
   "execution_count": 3,
   "id": "ad8fe120",
   "metadata": {},
   "outputs": [
    {
     "name": "stdout",
     "output_type": "stream",
     "text": [
      "enterway\n"
     ]
    }
   ],
   "source": [
    "obj2 = pig('Enter')\n",
    "print(obj2)"
   ]
  },
  {
   "cell_type": "markdown",
   "id": "099a662e",
   "metadata": {},
   "source": [
    "# Answer 7:"
   ]
  },
  {
   "cell_type": "code",
   "execution_count": 4,
   "id": "0a15b866",
   "metadata": {},
   "outputs": [],
   "source": [
    "def bldcount(infile):\n",
    "    obj1 = open(infile)\n",
    "    str1 = obj1.readline()\n",
    "    lst1 = str1.split()\n",
    "    countA = 0\n",
    "    countB = 0 \n",
    "    countO = 0\n",
    "    countAB = 0\n",
    "    countOO = 0\n",
    "\n",
    "    for i in lst1:\n",
    "        if i == 'A':\n",
    "            countA += 1# increasing count each time we get \"A\" in txt file\n",
    "        elif i == 'B':\n",
    "            countB += 1 #// increasing count each time we get \"B\" in txt file\n",
    "        elif i == 'O':\n",
    "            countO += 1#// increasing count each time we get \"O\" in txt file\n",
    "        elif i == 'AB':\n",
    "            countAB += 1#// increasing count each time we get \"AB\" in txt file\n",
    "        elif i == 'OO':\n",
    "            countOO += 1#// increasing count each time we get \"OO\" in txt file\n",
    "        else :\n",
    "            print(\"It is abnormal blood type.\")\n",
    "    print(\"There are {0} patients of blood type A. \\n There are {1} patients of blood type B. \\n There are {2} patients of blood type O.\\n There are {3} patients of blood type AB. \\n There are {4} patients of blood type OO.\".format(countA, countB, countO, countAB, countOO))"
   ]
  },
  {
   "cell_type": "code",
   "execution_count": 5,
   "id": "195cb258",
   "metadata": {},
   "outputs": [
    {
     "name": "stdout",
     "output_type": "stream",
     "text": [
      "There are 15 patients of blood type A. \n",
      " There are 1 patients of blood type B. \n",
      " There are 15 patients of blood type O.\n",
      " There are 13 patients of blood type AB. \n",
      " There are 0 patients of blood type OO.\n"
     ]
    }
   ],
   "source": [
    "bldcount('bloodtype1.txt')"
   ]
  },
  {
   "cell_type": "markdown",
   "id": "ba02ea58",
   "metadata": {},
   "source": [
    "# Answer 8:"
   ]
  },
  {
   "cell_type": "code",
   "execution_count": 6,
   "id": "751cc384",
   "metadata": {},
   "outputs": [],
   "source": [
    "def curconv(cur,number):\n",
    "    obj1 = open('currencies.txt')\n",
    "    str1 = obj1.read()\n",
    "    lst1 = str1.split(\"\\t\") #// spliting string to make a list by \\t\n",
    "    str1 = \"\\n\".join(lst1) #// joining by new line to again spliting it with \\n\n",
    "    lst2 = str1.split(\"\\n\")#//spliting string to make a list by \\n\n",
    "    dct = {lst2[i]: float(lst2[i + 1]) for i in range(0, len(lst2), 3)}#// creating dictionary to access values according to requirements.\n",
    "    Usd = dct[cur]*number# //converting currency into USD\n",
    "    return Usd"
   ]
  },
  {
   "cell_type": "code",
   "execution_count": 7,
   "id": "dbdfe731",
   "metadata": {},
   "outputs": [
    {
     "data": {
      "text/plain": [
       "122.96544"
      ]
     },
     "execution_count": 7,
     "metadata": {},
     "output_type": "execute_result"
    }
   ],
   "source": [
    "curconv('EUR',100)"
   ]
  },
  {
   "cell_type": "code",
   "execution_count": 8,
   "id": "1163e750",
   "metadata": {},
   "outputs": [
    {
     "data": {
      "text/plain": [
       "1.241401"
      ]
     },
     "execution_count": 8,
     "metadata": {},
     "output_type": "execute_result"
    }
   ],
   "source": [
    "curconv('JPY',100)"
   ]
  },
  {
   "cell_type": "markdown",
   "id": "97ea8e04",
   "metadata": {},
   "source": [
    "# Answer 9:"
   ]
  },
  {
   "cell_type": "code",
   "execution_count": 9,
   "id": "ee2b6a6d",
   "metadata": {},
   "outputs": [
    {
     "ename": "TypeError",
     "evalue": "unsupported operand type(s) for +: 'int' and 'str'",
     "output_type": "error",
     "traceback": [
      "\u001b[1;31m---------------------------------------------------------------------------\u001b[0m",
      "\u001b[1;31mTypeError\u001b[0m                                 Traceback (most recent call last)",
      "\u001b[1;32m<ipython-input-9-9028d3c07e18>\u001b[0m in \u001b[0;36m<module>\u001b[1;34m\u001b[0m\n\u001b[1;32m----> 1\u001b[1;33m \u001b[0mprint\u001b[0m\u001b[1;33m(\u001b[0m\u001b[1;36m6\u001b[0m \u001b[1;33m+\u001b[0m \u001b[1;34m'a'\u001b[0m\u001b[1;33m)\u001b[0m\u001b[1;33m\u001b[0m\u001b[1;33m\u001b[0m\u001b[0m\n\u001b[0m",
      "\u001b[1;31mTypeError\u001b[0m: unsupported operand type(s) for +: 'int' and 'str'"
     ]
    }
   ],
   "source": [
    "print(6 + 'a')"
   ]
  },
  {
   "cell_type": "code",
   "execution_count": 10,
   "id": "c7dab339",
   "metadata": {},
   "outputs": [
    {
     "ename": "IndexError",
     "evalue": "list index out of range",
     "output_type": "error",
     "traceback": [
      "\u001b[1;31m---------------------------------------------------------------------------\u001b[0m",
      "\u001b[1;31mIndexError\u001b[0m                                Traceback (most recent call last)",
      "\u001b[1;32m<ipython-input-10-0c4db4517310>\u001b[0m in \u001b[0;36m<module>\u001b[1;34m\u001b[0m\n\u001b[0;32m      2\u001b[0m \u001b[1;32mfor\u001b[0m \u001b[0mi\u001b[0m \u001b[1;32min\u001b[0m \u001b[0mrange\u001b[0m\u001b[1;33m(\u001b[0m\u001b[1;36m0\u001b[0m\u001b[1;33m,\u001b[0m\u001b[1;36m10\u001b[0m\u001b[1;33m)\u001b[0m\u001b[1;33m:\u001b[0m\u001b[1;33m\u001b[0m\u001b[1;33m\u001b[0m\u001b[0m\n\u001b[0;32m      3\u001b[0m     \u001b[0ma\u001b[0m\u001b[1;33m.\u001b[0m\u001b[0mappend\u001b[0m\u001b[1;33m(\u001b[0m\u001b[0mi\u001b[0m\u001b[1;33m)\u001b[0m\u001b[1;33m\u001b[0m\u001b[1;33m\u001b[0m\u001b[0m\n\u001b[1;32m----> 4\u001b[1;33m \u001b[0mprint\u001b[0m\u001b[1;33m(\u001b[0m\u001b[0ma\u001b[0m\u001b[1;33m[\u001b[0m\u001b[1;36m12\u001b[0m\u001b[1;33m]\u001b[0m\u001b[1;33m)\u001b[0m\u001b[1;33m\u001b[0m\u001b[1;33m\u001b[0m\u001b[0m\n\u001b[0m",
      "\u001b[1;31mIndexError\u001b[0m: list index out of range"
     ]
    }
   ],
   "source": [
    "a = []\n",
    "for i in range(0,10):\n",
    "    a.append(i)\n",
    "print(a[12])"
   ]
  },
  {
   "cell_type": "code",
   "execution_count": 11,
   "id": "74a9bdb2",
   "metadata": {},
   "outputs": [
    {
     "ename": "ValueError",
     "evalue": "math domain error",
     "output_type": "error",
     "traceback": [
      "\u001b[1;31m---------------------------------------------------------------------------\u001b[0m",
      "\u001b[1;31mValueError\u001b[0m                                Traceback (most recent call last)",
      "\u001b[1;32m<ipython-input-11-1158665f2c67>\u001b[0m in \u001b[0;36m<module>\u001b[1;34m\u001b[0m\n\u001b[0;32m      1\u001b[0m \u001b[1;32mimport\u001b[0m \u001b[0mmath\u001b[0m\u001b[1;33m\u001b[0m\u001b[1;33m\u001b[0m\u001b[0m\n\u001b[1;32m----> 2\u001b[1;33m \u001b[0mprint\u001b[0m\u001b[1;33m(\u001b[0m\u001b[0mmath\u001b[0m\u001b[1;33m.\u001b[0m\u001b[0msqrt\u001b[0m\u001b[1;33m(\u001b[0m\u001b[1;33m-\u001b[0m\u001b[1;36m1\u001b[0m\u001b[1;33m)\u001b[0m\u001b[1;33m)\u001b[0m\u001b[1;33m\u001b[0m\u001b[1;33m\u001b[0m\u001b[0m\n\u001b[0m",
      "\u001b[1;31mValueError\u001b[0m: math domain error"
     ]
    }
   ],
   "source": [
    "import math\n",
    "print(math.sqrt(-1))"
   ]
  },
  {
   "cell_type": "code",
   "execution_count": 12,
   "id": "6764342d",
   "metadata": {},
   "outputs": [
    {
     "ename": "NameError",
     "evalue": "name 'x' is not defined",
     "output_type": "error",
     "traceback": [
      "\u001b[1;31m---------------------------------------------------------------------------\u001b[0m",
      "\u001b[1;31mNameError\u001b[0m                                 Traceback (most recent call last)",
      "\u001b[1;32m<ipython-input-12-fc17d851ef81>\u001b[0m in \u001b[0;36m<module>\u001b[1;34m\u001b[0m\n\u001b[1;32m----> 1\u001b[1;33m \u001b[0mprint\u001b[0m\u001b[1;33m(\u001b[0m\u001b[0mx\u001b[0m\u001b[1;33m)\u001b[0m\u001b[1;33m\u001b[0m\u001b[1;33m\u001b[0m\u001b[0m\n\u001b[0m",
      "\u001b[1;31mNameError\u001b[0m: name 'x' is not defined"
     ]
    }
   ],
   "source": [
    "print(x)"
   ]
  },
  {
   "cell_type": "code",
   "execution_count": 13,
   "id": "1c9cea3e",
   "metadata": {},
   "outputs": [
    {
     "ename": "FileNotFoundError",
     "evalue": "[Errno 2] No such file or directory: 'pranav.txt'",
     "output_type": "error",
     "traceback": [
      "\u001b[1;31m---------------------------------------------------------------------------\u001b[0m",
      "\u001b[1;31mFileNotFoundError\u001b[0m                         Traceback (most recent call last)",
      "\u001b[1;32m<ipython-input-13-44b3db9de779>\u001b[0m in \u001b[0;36m<module>\u001b[1;34m\u001b[0m\n\u001b[1;32m----> 1\u001b[1;33m \u001b[0mfileobj\u001b[0m \u001b[1;33m=\u001b[0m \u001b[0mopen\u001b[0m\u001b[1;33m(\u001b[0m\u001b[1;34m'pranav.txt'\u001b[0m\u001b[1;33m)\u001b[0m\u001b[1;33m\u001b[0m\u001b[1;33m\u001b[0m\u001b[0m\n\u001b[0m",
      "\u001b[1;31mFileNotFoundError\u001b[0m: [Errno 2] No such file or directory: 'pranav.txt'"
     ]
    }
   ],
   "source": [
    "fileobj = open('pranav.txt')"
   ]
  },
  {
   "cell_type": "markdown",
   "id": "c76d4988",
   "metadata": {},
   "source": [
    "# Answer 10:"
   ]
  },
  {
   "cell_type": "code",
   "execution_count": 14,
   "id": "b04fc81f",
   "metadata": {},
   "outputs": [],
   "source": [
    "def frequencies(strobj):\n",
    "    str1 = strobj.lower()\n",
    "    lst1 = []\n",
    "    for i in str1:\n",
    "        if i.isalpha():#//checking and putting condition so that only alphabets are appended in dictionary.\n",
    "            lst1.append(i)\n",
    "        else:\n",
    "            continue\n",
    "    count = dict()#// creating empty dictionary.\n",
    "    for i in lst1:\n",
    "        if(i in count):#//increasing value of count each time we get character which is already in dictionary.\n",
    "            count[i] += 1\n",
    "        else:\n",
    "            count[i] = 1\n",
    "    return count"
   ]
  },
  {
   "cell_type": "code",
   "execution_count": 15,
   "id": "d8e893c5",
   "metadata": {},
   "outputs": [
    {
     "name": "stdout",
     "output_type": "stream",
     "text": [
      "('a', 1) ('b', 1) ('c', 1) ('d', 3) ('e', 5) ('f', 1) ('g', 1) ('h', 2) ('i', 1) ('k', 1) ('m', 1) ('n', 2) ('o', 4) ('q', 1) ('r', 2) ('t', 3) ('u', 1) ('w', 1) ('x', 1) "
     ]
    }
   ],
   "source": [
    "str1 = frequencies('The quick red fox got bored and went home.')\n",
    "str1\n",
    "for i in sorted (str1) :\n",
    "    print ((i, str1[i]), end =\" \")"
   ]
  }
 ],
 "metadata": {
  "kernelspec": {
   "display_name": "Python 3",
   "language": "python",
   "name": "python3"
  },
  "language_info": {
   "codemirror_mode": {
    "name": "ipython",
    "version": 3
   },
   "file_extension": ".py",
   "mimetype": "text/x-python",
   "name": "python",
   "nbconvert_exporter": "python",
   "pygments_lexer": "ipython3",
   "version": "3.8.8"
  }
 },
 "nbformat": 4,
 "nbformat_minor": 5
}
