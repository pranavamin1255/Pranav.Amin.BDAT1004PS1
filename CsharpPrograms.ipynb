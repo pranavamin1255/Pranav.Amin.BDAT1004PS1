{
 "cells": [
  {
   "cell_type": "markdown",
   "id": "9fd843f8",
   "metadata": {
    "slideshow": {
     "slide_type": "notes"
    }
   },
   "source": [
    "# Answer 1:"
   ]
  },
  {
   "cell_type": "code",
   "execution_count": 1,
   "id": "fc965649",
   "metadata": {},
   "outputs": [
    {
     "name": "stdout",
     "output_type": "stream",
     "text": [
      "System.Int32\r\n"
     ]
    }
   ],
   "source": [
    "Type tp1 = 5.GetType(); // to get the data type of the value\n",
    "Console.WriteLine(tp1);"
   ]
  },
  {
   "cell_type": "code",
   "execution_count": 2,
   "id": "c1383cc3",
   "metadata": {},
   "outputs": [
    {
     "name": "stdout",
     "output_type": "stream",
     "text": [
      "System.Double\r\n"
     ]
    }
   ],
   "source": [
    "Type tp2 = (5.0).GetType(); // to get the data type of the value\n",
    "Console.WriteLine(tp2);"
   ]
  },
  {
   "cell_type": "code",
   "execution_count": 3,
   "id": "51db4841",
   "metadata": {},
   "outputs": [
    {
     "name": "stdout",
     "output_type": "stream",
     "text": [
      "System.Boolean\r\n"
     ]
    }
   ],
   "source": [
    "Type tp3 = (5>1).GetType(); // to get the data type of the value\n",
    "Console.WriteLine(tp3);"
   ]
  },
  {
   "cell_type": "code",
   "execution_count": 4,
   "id": "0d0c4e05",
   "metadata": {},
   "outputs": [
    {
     "name": "stdout",
     "output_type": "stream",
     "text": [
      "System.Char\r\n"
     ]
    }
   ],
   "source": [
    "Type tp4 = '5'.GetType(); // to get the data type of the value\n",
    "Console.WriteLine(tp4);"
   ]
  },
  {
   "cell_type": "code",
   "execution_count": 5,
   "id": "717d4d35",
   "metadata": {},
   "outputs": [
    {
     "name": "stdout",
     "output_type": "stream",
     "text": [
      "System.Int32\r\n"
     ]
    }
   ],
   "source": [
    "Type tp5 = (5*2).GetType(); // to get the data type of the value\n",
    "Console.WriteLine(tp5);"
   ]
  },
  {
   "cell_type": "code",
   "execution_count": 6,
   "id": "3673bf3f",
   "metadata": {},
   "outputs": [
    {
     "name": "stdout",
     "output_type": "stream",
     "text": [
      "System.Int32\r\n"
     ]
    }
   ],
   "source": [
    "char char1 = '5';\n",
    "int num1 = 2;\n",
    "Type tp6 = (char1 * num1).GetType();// to get the data type of the value\n",
    "Console.WriteLine(tp6);"
   ]
  },
  {
   "cell_type": "code",
   "execution_count": 7,
   "id": "61587249",
   "metadata": {},
   "outputs": [
    {
     "name": "stdout",
     "output_type": "stream",
     "text": [
      "System.Int32\r\n"
     ]
    }
   ],
   "source": [
    "Type tp7 = ('5' + '2').GetType();// to get the data type of the value\n",
    "Console.WriteLine(tp7);"
   ]
  },
  {
   "cell_type": "code",
   "execution_count": 8,
   "id": "3e39d8ad",
   "metadata": {},
   "outputs": [
    {
     "name": "stdout",
     "output_type": "stream",
     "text": [
      "System.Int32\r\n"
     ]
    }
   ],
   "source": [
    "Type tp8 = (5 / 2).GetType();// to get the data type of the value\n",
    "Console.WriteLine(tp8);"
   ]
  },
  {
   "cell_type": "code",
   "execution_count": 9,
   "id": "208db2e7",
   "metadata": {},
   "outputs": [
    {
     "name": "stdout",
     "output_type": "stream",
     "text": [
      "System.Int32\r\n"
     ]
    }
   ],
   "source": [
    "Type tp9 = (5 % 2).GetType();// to get the data type of the value\n",
    "Console.WriteLine(tp9);"
   ]
  },
  {
   "cell_type": "code",
   "execution_count": 10,
   "id": "1824b5ef",
   "metadata": {},
   "outputs": [
    {
     "ename": "Unhandled Exception",
     "evalue": "(1,13): error CS1525: Invalid expression term '{'\r\n(1,13): error CS1026: ) expected\r\n(1,13): error CS1002: ; expected\r\n(1,15): error CS1002: ; expected\r\n(1,15): error CS1513: } expected\r\n(1,18): error CS1002: ; expected\r\n(1,18): error CS1513: } expected\r\n(1,21): error CS1002: ; expected\r\n(1,22): error CS7017: Member definition, statement, or end-of-file expected",
     "output_type": "error",
     "traceback": [
      "(1,13): error CS1525: Invalid expression term '{'\r\n(1,13): error CS1026: ) expected\r\n(1,13): error CS1002: ; expected\r\n(1,15): error CS1002: ; expected\r\n(1,15): error CS1513: } expected\r\n(1,18): error CS1002: ; expected\r\n(1,18): error CS1513: } expected\r\n(1,21): error CS1002: ; expected\r\n(1,22): error CS7017: Member definition, statement, or end-of-file expected"
     ]
    }
   ],
   "source": [
    "Type tp9 = ({5, 2, 1}).GetType();// to get the data type of the value\n",
    "Console.WriteLine(tp9);"
   ]
  },
  {
   "cell_type": "code",
   "execution_count": 11,
   "id": "95cc37ec",
   "metadata": {},
   "outputs": [
    {
     "name": "stdout",
     "output_type": "stream",
     "text": [
      "System.Boolean\r\n"
     ]
    }
   ],
   "source": [
    "Type tp10 = (5==3).GetType();// to get the data type of the value\n",
    "Console.WriteLine(tp10);"
   ]
  },
  {
   "cell_type": "code",
   "execution_count": 12,
   "id": "1dc18593",
   "metadata": {},
   "outputs": [
    {
     "name": "stdout",
     "output_type": "stream",
     "text": [
      "System.Double\r\n"
     ]
    }
   ],
   "source": [
    "Type tp11 = ((Math.PI)*5).GetType();// to get the data type of the value\n",
    "Console.WriteLine(tp11);"
   ]
  },
  {
   "cell_type": "markdown",
   "id": "b48c3fe5",
   "metadata": {},
   "source": [
    "# Answer 2:"
   ]
  },
  {
   "cell_type": "markdown",
   "id": "e8bf104e",
   "metadata": {},
   "source": [
    "# subanswer 1:"
   ]
  },
  {
   "cell_type": "code",
   "execution_count": 13,
   "id": "f96bd853",
   "metadata": {},
   "outputs": [
    {
     "name": "stdout",
     "output_type": "stream",
     "text": [
      "Total characters are 34\r\n"
     ]
    }
   ],
   "source": [
    "String s = \"Supercalifragilisticexpialidocious\"; \n",
    "int j = 0;\n",
    "foreach (char i in s)\n",
    "{\n",
    "j = j+1;\n",
    "}\n",
    "Console.WriteLine(\"Total characters are {0}\",j)"
   ]
  },
  {
   "cell_type": "markdown",
   "id": "e99f1405",
   "metadata": {},
   "source": [
    "# subanswer 2:"
   ]
  },
  {
   "cell_type": "code",
   "execution_count": 14,
   "id": "80cbe48e",
   "metadata": {},
   "outputs": [
    {
     "name": "stdout",
     "output_type": "stream",
     "text": [
      "Ice is substring of :Supercalifragilisticexpialidocious\r\n"
     ]
    }
   ],
   "source": [
    "string s = \"Supercalifragilisticexpialidocious\"; \n",
    "for (int i = 0; i< s.Length; i++)\n",
    "{\n",
    "if (s[i] == 'i')\n",
    "{\n",
    "if (s[i+1] == 'c')\n",
    "{\n",
    "if (s[i+2] == 'e')\n",
    "{\n",
    "Console.WriteLine(\"Ice is substring of :{0}\",s);\n",
    "}\n",
    "}\n",
    "}\n",
    "}"
   ]
  },
  {
   "cell_type": "markdown",
   "id": "24dc9daa",
   "metadata": {},
   "source": [
    "# Subanswer3:"
   ]
  },
  {
   "cell_type": "code",
   "execution_count": 15,
   "id": "f7cbc2e1",
   "metadata": {},
   "outputs": [
    {
     "name": "stdout",
     "output_type": "stream",
     "text": [
      "Supercalifragilisticexpialidocious and Bababadalgharaghtakamminarronnkonn both are equal size of string\r\n"
     ]
    }
   ],
   "source": [
    "string s1 = \"Supercalifragilisticexpialidocious\";\n",
    "string s2 = \"Honorificabilitudinitatibus\";\n",
    "string s3 = \"Bababadalgharaghtakamminarronnkonn\";\n",
    "\n",
    "int num1 = s1.Length;\n",
    "int num2 = s2.Length;\n",
    "int num3 = s3.Length;\n",
    "\n",
    "\n",
    "if (num1 == num2 && num2 == num3)\n",
    "{\n",
    "Console.WriteLine(\"{0} , {1} and {2} all are same at length and are equally longest string among all strings.\");\n",
    "}\n",
    "else if (num1 == num2 && num1>num3)\n",
    "{\n",
    "Console.WriteLine(\"{0} and {1} both are equal size of string\",s1,s2);;\n",
    "}\n",
    "else if(num2 == num3 && num2>num1)\n",
    "{\n",
    "Console.WriteLine(\"{0} and {1} both are equal size of string\",s2,s3);\n",
    "}\n",
    "else if(num1 == num3 && num1>num2)\n",
    "{\n",
    "Console.WriteLine(\"{0} and {1} both are equal size of string\",s1,s3);\n",
    "}\n",
    "else if(num1 > num2 && num1>num3)\n",
    "{\n",
    "Console.WriteLine(\"{0} is the greatest string among all.\",s1);\n",
    "}\n",
    "else if(num2 > num1 && num2>num3)\n",
    "{\n",
    "Console.WriteLine(\"{0} is the greatest string among all.\",s2);\n",
    "}\n",
    "else if(num3 > num1 && num3>num2)\n",
    "{\n",
    "Console.WriteLine(\"{0} is the greatest string among all.\",s3);\n",
    "}\n",
    "else\n",
    "{\n",
    "Console.WriteLine(\"I think there is an error in calculating length.\");\n",
    "}\n",
    "\n",
    "Console.ReadLine();\n",
    "\n"
   ]
  },
  {
   "cell_type": "markdown",
   "id": "22d0313a",
   "metadata": {},
   "source": [
    "# Subanswer4:"
   ]
  },
  {
   "cell_type": "code",
   "execution_count": 26,
   "id": "0661868f",
   "metadata": {},
   "outputs": [
    {
     "name": "stdout",
     "output_type": "stream",
     "text": [
      "Bartok\n",
      "Bellini\n",
      "Berlioz\n",
      "Bernstein\n",
      "Borodin\n",
      "Brian\n",
      "Buxtehude\n"
     ]
    }
   ],
   "source": [
    "var names = new SortedSet<string>();\n",
    "          names.Add(\"Berlioz\");\n",
    "          names.Add(\"Borodin\");\n",
    "          names.Add(\"Brian\");\n",
    "          names.Add(\"Bartok\");\n",
    "          names.Add(\"Bellini\");\n",
    "          names.Add(\"Buxtehude\");\n",
    "          names.Add(\"Bernstein\");\n",
    "          foreach (var name in names)\n",
    "          {\n",
    "               Console.WriteLine(name);\n",
    "          }"
   ]
  },
  {
   "cell_type": "code",
   "execution_count": null,
   "id": "b2445abf",
   "metadata": {},
   "outputs": [],
   "source": []
  },
  {
   "cell_type": "markdown",
   "id": "035e673d",
   "metadata": {},
   "source": [
    "# Answer 3:"
   ]
  },
  {
   "cell_type": "code",
   "execution_count": 16,
   "id": "0f38bb5e",
   "metadata": {},
   "outputs": [],
   "source": [
    "class myFunction\n",
    "    {\n",
    "        public float triangleArea(float a, float b, float c)\n",
    "        {\n",
    "        float s = (float)((a+b+c)/2);\n",
    "        float d1 = (float)(s *((s-a)*(s-b)*(s-c)));\n",
    "        float area = (float)(Math.Sqrt(d1));\n",
    "        return area;\n",
    "        }\n",
    "        \n",
    "    }"
   ]
  },
  {
   "cell_type": "code",
   "execution_count": 17,
   "id": "b7a02280",
   "metadata": {},
   "outputs": [
    {
     "name": "stdout",
     "output_type": "stream",
     "text": [
      "Triangle Area:7.182617"
     ]
    }
   ],
   "source": [
    "myFunction p1 = new myFunction();\n",
    "float f1 = (float)(p1.triangleArea(3.2f,4.5f,5.7f));\n",
    "Console.Write(\"Triangle Area:{0}\",f1);\n",
    "Console.ReadLine();"
   ]
  },
  {
   "cell_type": "markdown",
   "id": "04c9c7b1",
   "metadata": {},
   "source": [
    "# Answer 4:"
   ]
  },
  {
   "cell_type": "code",
   "execution_count": 27,
   "id": "e828c402",
   "metadata": {},
   "outputs": [
    {
     "name": "stdout",
     "output_type": "stream",
     "text": [
      "The Even elements are:\n",
      "42 56 32 \n",
      "The Odd elements are:\n",
      "25 47 "
     ]
    }
   ],
   "source": [
    "int[] arr = new int[5]; // created array of 5 integer\n",
    "arr[0] = 25; // adding value in array\n",
    "arr[1] = 47; // adding value in array\n",
    "arr[2] = 42;// adding value in array\n",
    "arr[3] = 56;// adding value in array\n",
    "arr[4] = 32;// adding value in array\n",
    "var Even = new List<int>();// created list to store even elements \n",
    "var Odd = new List<int>();// created list to store odd elements\n",
    "\n",
    "for (int i = 0; i < arr.Length; i++)\n",
    "{\n",
    "  if (arr[i] % 2 == 0)// condition for even value\n",
    "  {\n",
    "      \n",
    "           Even.Add(arr[i]);// adding even value in even list \n",
    "           \n",
    "  }\n",
    "    else // condition for odd value\n",
    "    {\n",
    "           Odd.Add(arr[i]);// adding even value in odd list \n",
    "    }\n",
    "    \n",
    "}\n",
    "\n",
    "Console.WriteLine(\"The Even elements are:\");\n",
    "foreach (int i in Even)\n",
    "{\n",
    "    Console.Write(\"{0} \",i);\n",
    "}\n",
    "Console.WriteLine(); // for new Line\n",
    "Console.WriteLine(\"The Odd elements are:\");\n",
    "foreach (int j in Odd)\n",
    "{\n",
    "    Console.Write(\"{0} \",j);\n",
    "}\n"
   ]
  },
  {
   "cell_type": "markdown",
   "id": "22268fb0",
   "metadata": {},
   "source": [
    "# Answer 5:"
   ]
  },
  {
   "cell_type": "code",
   "execution_count": 28,
   "id": "15d489b9",
   "metadata": {},
   "outputs": [],
   "source": [
    "class myFunction\n",
    "    {\n",
    "        public bool b1 = false;\n",
    "        public bool inside(float x, float y, float x1, float y1, float x2, float y2)\n",
    "        {\n",
    "        if ((x > x1 && x < x2) && (y > y1 && y < y2))\n",
    "        {\n",
    "            b1 = true;\n",
    "           return b1;\n",
    "        }\n",
    "        else if((x < x1 || x > x2) && (y < y1 || y > y2))\n",
    "        {\n",
    "            b1 = false;\n",
    "           return b1;\n",
    "        }\n",
    "        return b1;\n",
    "        }\n",
    "        }\n",
    "        "
   ]
  },
  {
   "cell_type": "code",
   "execution_count": 30,
   "id": "e5d11df6",
   "metadata": {},
   "outputs": [
    {
     "name": "stdout",
     "output_type": "stream",
     "text": [
      "True\r\n"
     ]
    }
   ],
   "source": [
    "myFunction obj1 = new myFunction();\n",
    "bool boolobj1 = obj1.inside(1,1,0,0,2,3);\n",
    "Console.WriteLine(boolobj1);\n",
    "\n"
   ]
  },
  {
   "cell_type": "code",
   "execution_count": 31,
   "id": "d7771daf",
   "metadata": {},
   "outputs": [
    {
     "name": "stdout",
     "output_type": "stream",
     "text": [
      "False\r\n"
     ]
    }
   ],
   "source": [
    "myFunction obj2 = new myFunction();\n",
    "bool boolobj2 = obj2.inside(-1,-1,0,0,2,3);\n",
    "Console.WriteLine(boolobj2);"
   ]
  },
  {
   "cell_type": "code",
   "execution_count": 32,
   "id": "b024f06b",
   "metadata": {},
   "outputs": [
    {
     "name": "stdout",
     "output_type": "stream",
     "text": [
      "False\r\n"
     ]
    }
   ],
   "source": [
    "myFunction obj3 = new myFunction();\n",
    "bool boolobj3 = obj3.inside(1,1,0.3f,0.5f,1.1f,0.7f);\n",
    "Console.WriteLine(boolobj3);"
   ]
  },
  {
   "cell_type": "code",
   "execution_count": 33,
   "id": "9bb6d982",
   "metadata": {},
   "outputs": [
    {
     "name": "stdout",
     "output_type": "stream",
     "text": [
      "True\r\n"
     ]
    }
   ],
   "source": [
    "myFunction obj4 = new myFunction();\n",
    "bool boolobj4 = obj4.inside(1,1,0.5f,0.2f,1.1f,2);\n",
    "Console.WriteLine(boolobj4);"
   ]
  },
  {
   "cell_type": "code",
   "execution_count": null,
   "id": "ddce511d",
   "metadata": {},
   "outputs": [],
   "source": []
  }
 ],
 "metadata": {
  "celltoolbar": "Slideshow",
  "kernelspec": {
   "display_name": ".NET (C#)",
   "language": "C#",
   "name": ".net-csharp"
  },
  "language_info": {
   "file_extension": ".cs",
   "mimetype": "text/x-csharp",
   "name": "C#",
   "pygments_lexer": "csharp",
   "version": "8.0"
  }
 },
 "nbformat": 4,
 "nbformat_minor": 5
}
